{
 "cells": [
  {
   "cell_type": "code",
   "execution_count": 1,
   "id": "b9a6ec5c",
   "metadata": {},
   "outputs": [],
   "source": [
    "# 6장"
   ]
  },
  {
   "cell_type": "code",
   "execution_count": 2,
   "id": "fe9e3d73",
   "metadata": {},
   "outputs": [
    {
     "name": "stdout",
     "output_type": "stream",
     "text": [
      "Hello Python!!\n"
     ]
    }
   ],
   "source": [
    "print(\"Hello Python!!\")"
   ]
  },
  {
   "cell_type": "code",
   "execution_count": 3,
   "id": "113c696f",
   "metadata": {},
   "outputs": [
    {
     "name": "stdout",
     "output_type": "stream",
     "text": [
      "Best python book\n"
     ]
    }
   ],
   "source": [
    "print(\"Best\",\"python\",\"book\")"
   ]
  },
  {
   "cell_type": "code",
   "execution_count": 4,
   "id": "467e0d6d",
   "metadata": {},
   "outputs": [
    {
     "name": "stdout",
     "output_type": "stream",
     "text": [
      "Best-:*:-python-:*:-book\n"
     ]
    }
   ],
   "source": [
    "print(\"Best\",\"python\",\"book\",sep =\"-:*:-\")"
   ]
  },
  {
   "cell_type": "code",
   "execution_count": 5,
   "id": "2d4a1fdd",
   "metadata": {},
   "outputs": [
    {
     "name": "stdout",
     "output_type": "stream",
     "text": [
      "abcdefg\n"
     ]
    }
   ],
   "source": [
    "print(\"abcd\"+\"efg\")"
   ]
  },
  {
   "cell_type": "code",
   "execution_count": 6,
   "id": "897e8c67",
   "metadata": {},
   "outputs": [
    {
     "name": "stdout",
     "output_type": "stream",
     "text": [
      "Best python book: This book\n"
     ]
    }
   ],
   "source": [
    "print(\"Best\",\"python\",\"book\"+\":\",\"This book\")"
   ]
  },
  {
   "cell_type": "code",
   "execution_count": 7,
   "id": "641c9023",
   "metadata": {},
   "outputs": [
    {
     "name": "stdout",
     "output_type": "stream",
     "text": [
      "10\n"
     ]
    }
   ],
   "source": [
    "x = 10\n",
    "print(x)"
   ]
  },
  {
   "cell_type": "code",
   "execution_count": 8,
   "id": "eb6c5254",
   "metadata": {},
   "outputs": [
    {
     "name": "stdout",
     "output_type": "stream",
     "text": [
      "Name: James, ID Number: 789\n"
     ]
    }
   ],
   "source": [
    "name = \"James\"\n",
    "ID_num = 789\n",
    "print(\"Name:\",name+\",\",\"ID Number:\",ID_num)"
   ]
  },
  {
   "cell_type": "code",
   "execution_count": 9,
   "id": "f69c88f8",
   "metadata": {},
   "outputs": [
    {
     "name": "stdout",
     "output_type": "stream",
     "text": [
      "James is my friend.\n",
      "He is Korean\n"
     ]
    }
   ],
   "source": [
    "print(\"James is my friend.\\nHe is Korean\")"
   ]
  },
  {
   "cell_type": "code",
   "execution_count": 10,
   "id": "0bc99c49",
   "metadata": {},
   "outputs": [
    {
     "name": "stdout",
     "output_type": "stream",
     "text": [
      "Welcome to \n",
      "python!\n"
     ]
    }
   ],
   "source": [
    "print(\"Welcome to \")\n",
    "print(\"python!\")"
   ]
  },
  {
   "cell_type": "code",
   "execution_count": 11,
   "id": "f1803095",
   "metadata": {},
   "outputs": [
    {
     "name": "stdout",
     "output_type": "stream",
     "text": [
      "Welcome to python!\n"
     ]
    }
   ],
   "source": [
    "print(\"Welcome to \",end=\"\")\n",
    "print(\"python!\")"
   ]
  },
  {
   "cell_type": "code",
   "execution_count": 12,
   "id": "f85a9907",
   "metadata": {},
   "outputs": [
    {
     "name": "stdout",
     "output_type": "stream",
     "text": [
      "광재는 나의 친구입니다.\n"
     ]
    }
   ],
   "source": [
    "name = \"광재\"\n",
    "print(\"%s는 나의 친구입니다.\"%name)"
   ]
  },
  {
   "cell_type": "code",
   "execution_count": 13,
   "id": "3b53dfe1",
   "metadata": {},
   "outputs": [
    {
     "name": "stdout",
     "output_type": "stream",
     "text": [
      "반지름: 3, 원주율: 3.141593\n"
     ]
    }
   ],
   "source": [
    "r = 3\n",
    "PI = 3.14159265358979\n",
    "print(\"반지름: %d, 원주율: %f\"%(r,PI))"
   ]
  },
  {
   "cell_type": "code",
   "execution_count": 14,
   "id": "8b8b58dd",
   "metadata": {},
   "outputs": [
    {
     "name": "stdout",
     "output_type": "stream",
     "text": [
      "Animal: cat\n",
      "Animal: cat,dog,fox\n"
     ]
    }
   ],
   "source": [
    "animal_0 = \"cat\"\n",
    "animal_1 = \"dog\"\n",
    "animal_2 = \"fox\"\n",
    "print(\"Animal: {0}\".format(animal_0))\n",
    "print(\"Animal: {0},{1},{2}\".format(animal_0,animal_1,animal_2))"
   ]
  },
  {
   "cell_type": "code",
   "execution_count": 15,
   "id": "02a17f90",
   "metadata": {},
   "outputs": [
    {
     "name": "stdout",
     "output_type": "stream",
     "text": [
      "Animal: dog,fox,cat\n"
     ]
    }
   ],
   "source": [
    "print(\"Animal: {1},{2},{0}\".format(animal_0,animal_1,animal_2))"
   ]
  },
  {
   "cell_type": "code",
   "execution_count": 16,
   "id": "999b065c",
   "metadata": {},
   "outputs": [
    {
     "name": "stdout",
     "output_type": "stream",
     "text": [
      "Animal: cat,fox\n"
     ]
    }
   ],
   "source": [
    "print(\"Animal: {0},{2}\".format(animal_0,animal_1,animal_2))"
   ]
  },
  {
   "cell_type": "code",
   "execution_count": 17,
   "id": "579df4c2",
   "metadata": {},
   "outputs": [
    {
     "name": "stdout",
     "output_type": "stream",
     "text": [
      "Animal: cat,dog,fox\n"
     ]
    }
   ],
   "source": [
    "print(\"Animal: {},{},{}\".format(animal_0,animal_1,animal_2))"
   ]
  },
  {
   "cell_type": "code",
   "execution_count": 18,
   "id": "fa9ba564",
   "metadata": {},
   "outputs": [
    {
     "name": "stdout",
     "output_type": "stream",
     "text": [
      "String: Tomas. Integer Number: 10. Floating Number: 0.12345678901234568\n"
     ]
    }
   ],
   "source": [
    "name = \"Tomas\"\n",
    "age = 10\n",
    "a = 0.1234567890123456789\n",
    "fmt_string = \"String: {0}. Integer Number: {1}. Floating Number: {2}\"\n",
    "print(fmt_string.format(name,age,a))"
   ]
  },
  {
   "cell_type": "code",
   "execution_count": 20,
   "id": "9d076098",
   "metadata": {},
   "outputs": [
    {
     "name": "stdout",
     "output_type": "stream",
     "text": [
      "0.12,0.12346\n"
     ]
    }
   ],
   "source": [
    "a = 0.1234567890123456789\n",
    "print(\"{0:.2f},{0:.5f}\".format(a))"
   ]
  },
  {
   "cell_type": "code",
   "execution_count": 22,
   "id": "60c6fd6e",
   "metadata": {},
   "outputs": [
    {
     "name": "stdout",
     "output_type": "stream",
     "text": [
      "당신의 이름은?홍길동\n",
      "당신은 홍길동이군요\n"
     ]
    }
   ],
   "source": [
    "yourName = input(\"당신의 이름은?\")\n",
    "print(\"당신은 {}이군요\".format(yourName))"
   ]
  },
  {
   "cell_type": "code",
   "execution_count": 23,
   "id": "d3f2d494",
   "metadata": {},
   "outputs": [
    {
     "name": "stdout",
     "output_type": "stream",
     "text": [
      "숫자를 입력하세요: 5\n",
      "당신이 입력한 숫자는 5입니다\n"
     ]
    }
   ],
   "source": [
    "num = input(\"숫자를 입력하세요: \")\n",
    "print(\"당신이 입력한 숫자는 {}입니다\".format(num))"
   ]
  },
  {
   "cell_type": "code",
   "execution_count": 24,
   "id": "2958531d",
   "metadata": {},
   "outputs": [
    {
     "name": "stdout",
     "output_type": "stream",
     "text": [
      "정사각형의 한 변의 길이는?:5\n",
      "정사각형의 넓이: 25\n"
     ]
    }
   ],
   "source": [
    "a = input(\"정사각형의 한 변의 길이는?:\")\n",
    "area = int(a)**2\n",
    "print(\"정사각형의 넓이: {}\".format(area))"
   ]
  },
  {
   "cell_type": "code",
   "execution_count": 25,
   "id": "eeadf3cc",
   "metadata": {},
   "outputs": [
    {
     "name": "stdout",
     "output_type": "stream",
     "text": [
      "정사각형의 한변의 길이는?:1.5\n",
      "정사각형의 넓이: 2.25\n"
     ]
    }
   ],
   "source": [
    "b = input(\"정사각형의 한변의 길이는?:\")\n",
    "area = float(b)**2\n",
    "print(\"정사각형의 넓이: {}\".format(area))"
   ]
  },
  {
   "cell_type": "code",
   "execution_count": 26,
   "id": "26063bf6",
   "metadata": {},
   "outputs": [
    {
     "name": "stdout",
     "output_type": "stream",
     "text": [
      "정사각형의 한변의 길이는?:3\n",
      "정사각형의 넓이: 9.0\n"
     ]
    }
   ],
   "source": [
    "c = input(\"정사각형의 한변의 길이는?:\")\n",
    "area = float(c)**2\n",
    "print(\"정사각형의 넓이: {}\".format(area))"
   ]
  },
  {
   "cell_type": "code",
   "execution_count": 27,
   "id": "bf1e56ac",
   "metadata": {},
   "outputs": [
    {
     "name": "stdout",
     "output_type": "stream",
     "text": [
      "C:\\myPyCode\n"
     ]
    }
   ],
   "source": [
    "cd C:\\myPyCode"
   ]
  },
  {
   "cell_type": "code",
   "execution_count": 28,
   "id": "338451e3",
   "metadata": {},
   "outputs": [],
   "source": [
    "f = open('myFile.txt','w')\n",
    "f.write('This is my first file.')\n",
    "f.close()"
   ]
  },
  {
   "cell_type": "code",
   "execution_count": 29,
   "id": "dddda4f5",
   "metadata": {},
   "outputs": [
    {
     "name": "stdout",
     "output_type": "stream",
     "text": [
      "This is my first file.\n"
     ]
    }
   ],
   "source": [
    "!type myFile.txt"
   ]
  },
  {
   "cell_type": "code",
   "execution_count": 30,
   "id": "5171d978",
   "metadata": {},
   "outputs": [
    {
     "name": "stdout",
     "output_type": "stream",
     "text": [
      "This is my first file.\n"
     ]
    }
   ],
   "source": [
    "f = open('myFile.txt','r')\n",
    "file_text = f.read()\n",
    "f.close()\n",
    "\n",
    "print(file_text)"
   ]
  },
  {
   "cell_type": "code",
   "execution_count": 31,
   "id": "d8fb1b2d",
   "metadata": {},
   "outputs": [],
   "source": [
    "f = open('two_times_tables.txt','w')\n",
    "for num in range(1,6):\n",
    "    format_string = \"2 x {0} = {1}\\n\".format(num,2*num)\n",
    "    f.write(format_string)\n",
    "f.close()"
   ]
  },
  {
   "cell_type": "code",
   "execution_count": 32,
   "id": "972ca2f1",
   "metadata": {},
   "outputs": [
    {
     "name": "stdout",
     "output_type": "stream",
     "text": [
      "2 x 1 = 2\n",
      "2 x 2 = 4\n",
      "2 x 3 = 6\n",
      "2 x 4 = 8\n",
      "2 x 5 = 10\n"
     ]
    }
   ],
   "source": [
    "!type two_times_tables.txt"
   ]
  },
  {
   "cell_type": "code",
   "execution_count": 34,
   "id": "79af7b71",
   "metadata": {},
   "outputs": [
    {
     "name": "stdout",
     "output_type": "stream",
     "text": [
      "2 x 1 = 2\n",
      "2 x 2 = 4\n"
     ]
    }
   ],
   "source": [
    "f = open(\"two_times_tables.txt\")\n",
    "line1 = f.readline()\n",
    "line2 = f.readline()\n",
    "f.close()\n",
    "print(line1,end=\"\")\n",
    "print(line2,end=\"\")"
   ]
  },
  {
   "cell_type": "code",
   "execution_count": 35,
   "id": "9feb8113",
   "metadata": {},
   "outputs": [
    {
     "name": "stdout",
     "output_type": "stream",
     "text": [
      "2 x 1 = 2\n",
      "2 x 2 = 4\n",
      "2 x 3 = 6\n",
      "2 x 4 = 8\n",
      "2 x 5 = 10\n"
     ]
    }
   ],
   "source": [
    "f = open(\"two_times_tables.txt\")\n",
    "line = f.readline()\n",
    "while line:\n",
    "    print(line, end = \"\")\n",
    "    line = f.readline()\n",
    "f.close()"
   ]
  },
  {
   "cell_type": "code",
   "execution_count": 36,
   "id": "f22c1816",
   "metadata": {},
   "outputs": [
    {
     "name": "stdout",
     "output_type": "stream",
     "text": [
      "2 x 1 = 2\n",
      "2 x 2 = 4\n",
      "2 x 3 = 6\n",
      "2 x 4 = 8\n",
      "2 x 5 = 10\n"
     ]
    }
   ],
   "source": [
    "f = open(\"two_times_tables.txt\")\n",
    "lines = f.readlines()\n",
    "f.close()\n",
    "for line in lines:\n",
    "    print(line,end=\"\")"
   ]
  },
  {
   "cell_type": "code",
   "execution_count": 37,
   "id": "44a12a97",
   "metadata": {},
   "outputs": [
    {
     "name": "stdout",
     "output_type": "stream",
     "text": [
      "2 x 1 = 2\n",
      "2 x 2 = 4\n",
      "2 x 3 = 6\n",
      "2 x 4 = 8\n",
      "2 x 5 = 10\n"
     ]
    }
   ],
   "source": [
    "f = open(\"two_times_tables.txt\")\n",
    "for line in f.readlines():\n",
    "    print(line,end=\"\")\n",
    "f.close()    "
   ]
  },
  {
   "cell_type": "code",
   "execution_count": 38,
   "id": "fc29421b",
   "metadata": {},
   "outputs": [
    {
     "name": "stdout",
     "output_type": "stream",
     "text": [
      "2 x 1 = 2\n",
      "2 x 2 = 4\n",
      "2 x 3 = 6\n",
      "2 x 4 = 8\n",
      "2 x 5 = 10\n"
     ]
    }
   ],
   "source": [
    "f = open(\"two_times_tables.txt\")\n",
    "for line in f:\n",
    "    print(line,end=\"\")\n",
    "f.close()    "
   ]
  },
  {
   "cell_type": "code",
   "execution_count": 39,
   "id": "4b936d99",
   "metadata": {},
   "outputs": [],
   "source": [
    "f = open('myTextFile.txt','w')\n",
    "f.write('File write/read test.')\n",
    "f.close()"
   ]
  },
  {
   "cell_type": "code",
   "execution_count": 40,
   "id": "bc91d48c",
   "metadata": {},
   "outputs": [
    {
     "name": "stdout",
     "output_type": "stream",
     "text": [
      "File write/read test.\n"
     ]
    }
   ],
   "source": [
    "f = open('myTextFile.txt','r')\n",
    "test = f.read()\n",
    "f.close()\n",
    "print(test)"
   ]
  },
  {
   "cell_type": "code",
   "execution_count": 42,
   "id": "f84f67a6",
   "metadata": {},
   "outputs": [],
   "source": [
    "with open('C:/myPyCode/myTextFile2.txt','w') as f:\n",
    "    f.write('File read/write test2: line1\\n')\n",
    "    f.write('File read/write test2: line2\\n')\n",
    "    f.write('File read/write test2: line3\\n')"
   ]
  },
  {
   "cell_type": "code",
   "execution_count": 43,
   "id": "7cd13585",
   "metadata": {},
   "outputs": [
    {
     "name": "stdout",
     "output_type": "stream",
     "text": [
      "File read/write test2: line1\n",
      "File read/write test2: line2\n",
      "File read/write test2: line3\n",
      "\n"
     ]
    }
   ],
   "source": [
    "with open('C:/myPyCode/myTextFile2.txt') as f:\n",
    "    file_string = f.read()\n",
    "    print(file_string)"
   ]
  },
  {
   "cell_type": "code",
   "execution_count": 44,
   "id": "ba11bde9",
   "metadata": {},
   "outputs": [],
   "source": [
    "with open('C:/myPyCode/myTextFile3.txt','w') as f:\n",
    "    for num in range(1,6):\n",
    "        format_string = \"3 x {0} = {1}\\n\".format(num,3*num)\n",
    "        f.write(format_string)"
   ]
  },
  {
   "cell_type": "code",
   "execution_count": 45,
   "id": "bf53b7eb",
   "metadata": {},
   "outputs": [
    {
     "name": "stdout",
     "output_type": "stream",
     "text": [
      "3 x 1 = 3\n",
      "3 x 2 = 6\n",
      "3 x 3 = 9\n",
      "3 x 4 = 12\n",
      "3 x 5 = 15\n"
     ]
    }
   ],
   "source": [
    "with open('C:/myPyCode/myTextFile3.txt','r') as f:\n",
    "    for line in f:\n",
    "        print(line,end=\"\")"
   ]
  },
  {
   "cell_type": "code",
   "execution_count": null,
   "id": "eaa82072",
   "metadata": {},
   "outputs": [],
   "source": []
  }
 ],
 "metadata": {
  "kernelspec": {
   "display_name": "Python 3 (ipykernel)",
   "language": "python",
   "name": "python3"
  },
  "language_info": {
   "codemirror_mode": {
    "name": "ipython",
    "version": 3
   },
   "file_extension": ".py",
   "mimetype": "text/x-python",
   "name": "python",
   "nbconvert_exporter": "python",
   "pygments_lexer": "ipython3",
   "version": "3.9.7"
  }
 },
 "nbformat": 4,
 "nbformat_minor": 5
}
